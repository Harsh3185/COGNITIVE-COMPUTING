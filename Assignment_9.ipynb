{
  "cells": [
    {
      "cell_type": "code",
      "execution_count": 2,
      "metadata": {
        "colab": {
          "base_uri": "https://localhost:8080/"
        },
        "id": "6KYk7a_xs4y2",
        "outputId": "6de0656c-f6ad-444c-af6d-949e03d7c699"
      },
      "outputs": [
        {
          "name": "stderr",
          "output_type": "stream",
          "text": [
            "[nltk_data] Downloading package punkt to\n",
            "[nltk_data]     C:\\Users\\rmshw\\AppData\\Roaming\\nltk_data...\n",
            "[nltk_data]   Unzipping tokenizers\\punkt.zip.\n",
            "[nltk_data] Downloading package stopwords to\n",
            "[nltk_data]     C:\\Users\\rmshw\\AppData\\Roaming\\nltk_data...\n",
            "[nltk_data]   Unzipping corpora\\stopwords.zip.\n",
            "[nltk_data] Downloading package wordnet to\n",
            "[nltk_data]     C:\\Users\\rmshw\\AppData\\Roaming\\nltk_data...\n"
          ]
        },
        {
          "data": {
            "text/plain": [
              "True"
            ]
          },
          "execution_count": 2,
          "metadata": {},
          "output_type": "execute_result"
        }
      ],
      "source": [
        "import re\n",
        "import nltk\n",
        "from nltk.tokenize import word_tokenize, sent_tokenize\n",
        "from nltk.corpus import stopwords\n",
        "from nltk.stem import PorterStemmer, LancasterStemmer, WordNetLemmatizer\n",
        "from collections import Counter\n",
        "\n",
        "nltk.download('punkt')\n",
        "nltk.download('stopwords')\n",
        "nltk.download('wordnet')"
      ]
    },
    {
      "cell_type": "code",
      "execution_count": 18,
      "metadata": {
        "colab": {
          "base_uri": "https://localhost:8080/"
        },
        "id": "VoyNFUN9rN8o",
        "outputId": "f0ea3c6d-80af-4d3e-bf3c-c84a95c0362d"
      },
      "outputs": [
        {
          "name": "stdout",
          "output_type": "stream",
          "text": [
            "technology is evolving rapidly in todays world from smartphones to smart homes innovation is constant artificial intelligence and machine learning are transforming industries i enjoy exploring new gadgets and learning about futuristic tech the impact of technology on healthcare and education is remarkable its fascinating how fast things are changing\n"
          ]
        }
      ],
      "source": [
        "paragraph = \"Technology is evolving rapidly in today's world. From smartphones to smart homes, innovation is constant. Artificial Intelligence and Machine Learning are transforming industries. I enjoy exploring new gadgets and learning about futuristic tech. The impact of technology on healthcare and education is remarkable. It's fascinating how fast things are changing.\"\n",
        "lowercase_text = paragraph.lower()\n",
        "no_punct_text = re.sub(r'[^\\w\\s]', '', lowercase_text)\n",
        "print(no_punct_text)"
      ]
    },
    {
      "cell_type": "code",
      "execution_count": 19,
      "metadata": {
        "colab": {
          "base_uri": "https://localhost:8080/"
        },
        "id": "i0E0x5rdtE2t",
        "outputId": "83969aa3-f842-45a6-cc5d-f2f47420060f"
      },
      "outputs": [
        {
          "name": "stderr",
          "output_type": "stream",
          "text": [
            "[nltk_data] Downloading package punkt_tab to\n",
            "[nltk_data]     C:\\Users\\rmshw\\AppData\\Roaming\\nltk_data...\n",
            "[nltk_data]   Package punkt_tab is already up-to-date!\n"
          ]
        }
      ],
      "source": [
        "nltk.download('punkt_tab')\n",
        "sentences = sent_tokenize(paragraph)\n",
        "words = word_tokenize(no_punct_text)"
      ]
    },
    {
      "cell_type": "code",
      "execution_count": 20,
      "metadata": {
        "id": "W_GZfWo0ttvK"
      },
      "outputs": [],
      "source": [
        "stop_words = set(stopwords.words('english'))\n",
        "filtered_words = [word for word in words if word not in stop_words]"
      ]
    },
    {
      "cell_type": "code",
      "execution_count": 21,
      "metadata": {
        "colab": {
          "base_uri": "https://localhost:8080/"
        },
        "id": "ugnB9wSkt7Jf",
        "outputId": "b01598fd-00f9-4ba0-c4d4-0f39798dfdb1"
      },
      "outputs": [
        {
          "name": "stdout",
          "output_type": "stream",
          "text": [
            "technology: 2\n",
            "learning: 2\n",
            "evolving: 1\n",
            "rapidly: 1\n",
            "todays: 1\n",
            "world: 1\n",
            "smartphones: 1\n",
            "smart: 1\n",
            "homes: 1\n",
            "innovation: 1\n"
          ]
        }
      ],
      "source": [
        "word_freq = Counter(filtered_words)\n",
        "for word, count in word_freq.most_common(10):\n",
        "    print(f\"{word}: {count}\")"
      ]
    },
    {
      "cell_type": "code",
      "execution_count": 22,
      "metadata": {
        "id": "ix6nEmv8uOmQ"
      },
      "outputs": [],
      "source": [
        "from nltk.stem import PorterStemmer, LancasterStemmer, WordNetLemmatizer\n",
        "porter = PorterStemmer()\n",
        "lancaster = LancasterStemmer()\n"
      ]
    },
    {
      "cell_type": "code",
      "execution_count": 8,
      "metadata": {
        "id": "zFQuJ9Eju3sw"
      },
      "outputs": [],
      "source": [
        "lemmatizer = WordNetLemmatizer()"
      ]
    },
    {
      "cell_type": "code",
      "execution_count": 24,
      "metadata": {
        "colab": {
          "base_uri": "https://localhost:8080/"
        },
        "id": "YzSMKqCvu6Jh",
        "outputId": "908af6cc-8776-4520-d4ad-c95f329b6d75"
      },
      "outputs": [
        {
          "name": "stdout",
          "output_type": "stream",
          "text": [
            "technology\ttechnolog\ttechnolog\ttechnology\n",
            "evolving\tevolv\tevolv\tevolving\n",
            "rapidly\trapidli\trapid\trapidly\n",
            "todays\ttoday\ttoday\ttoday\n",
            "world\tworld\tworld\tworld\n",
            "smartphones\tsmartphon\tsmartphon\tsmartphones\n",
            "smart\tsmart\tsmart\tsmart\n",
            "homes\thome\thom\thome\n",
            "innovation\tinnov\tinnov\tinnovation\n",
            "constant\tconstant\tconst\tconstant\n"
          ]
        }
      ],
      "source": [
        "for word in filtered_words[:10]:\n",
        "    porter_result = porter.stem(word)\n",
        "    lancaster_result = lancaster.stem(word)\n",
        "    lemma_result = lemmatizer.lemmatize(word)\n",
        "    print(f\"{word}\\t{porter_result}\\t{lancaster_result}\\t{lemma_result}\")\n"
      ]
    },
    {
      "cell_type": "code",
      "execution_count": 26,
      "metadata": {
        "colab": {
          "base_uri": "https://localhost:8080/"
        },
        "id": "ObNYejjoviBW",
        "outputId": "8942ef7c-8ab1-4f5e-d544-c70031e2544b"
      },
      "outputs": [
        {
          "name": "stdout",
          "output_type": "stream",
          "text": [
            "['Technology', 'evolving', 'rapidly', 'smartphones', 'innovation', 'constant', 'Artificial', 'Intelligence', 'Machine', 'Learning', 'transforming', 'industries', 'exploring', 'gadgets', 'learning']\n",
            "[]\n",
            "['Technology', 'From', 'Artificial', 'Intelligence', 'Machine', 'Learning', 'I', 'The', 'It']\n"
          ]
        }
      ],
      "source": [
        "long_words = re.findall(r'\\b\\w{6,}\\b', paragraph)\n",
        "print(long_words[:15])\n",
        "numbers = re.findall(r'\\b\\d+\\b', paragraph)\n",
        "print(numbers)\n",
        "cap_words =  re.findall(r'\\b[A-Z][a-z]*\\b', paragraph)\n",
        "print(cap_words)"
      ]
    },
    {
      "cell_type": "code",
      "execution_count": 14,
      "metadata": {
        "colab": {
          "base_uri": "https://localhost:8080/"
        },
        "id": "bpxVC2Axv8wC",
        "outputId": "8c18bc94-33a0-4e6d-c722-fb6fdc3382f7"
      },
      "outputs": [
        {
          "name": "stdout",
          "output_type": "stream",
          "text": [
            "['Steve', 'Cohen', 'is', 'a', 'prominent', 'American', 'billionaire', 'and', 'hedge', 'fund', 'manager', 'best', 'known', 'as', 'the']\n",
            "['is', 'a', 'American', 'and', 'as', 'and', 'of', 'Asset', 'a', 'investment', 'Advisors', 'in', 'achieving', 'and', 'earning', 'a', 'as', 'one', 'of', 'impressive', 'ultimately', 'after', 'insider', 'in', 'in', 'in', 'After', 'a', 'outside', 'emerged', 'operations', 'into', 'in', 'assets', 'and', 'is', 'also', 'extensive', 'art', 'and', 'as', 'owner', 'and', 'of', 'influence', 'in', 'and']\n"
          ]
        }
      ],
      "source": [
        "alpha_only = re.findall(r'\\b[a-zA-Z]+\\b', paragraph)\n",
        "print(alpha_only[:15])\n",
        "vowel_words = re.findall(r'\\b[aeiouAEIOU][a-zA-Z]*\\b', paragraph)\n",
        "print(vowel_words)"
      ]
    },
    {
      "cell_type": "code",
      "execution_count": 15,
      "metadata": {
        "id": "4CThC_OwwFxX"
      },
      "outputs": [],
      "source": [
        "text_sample = paragraph + \" His email is steve.cohen@example.com. Check out https://www.point72.com. Call at 123-456-7890 or +91 9876543210. The firm's value is $3.14 billion.\""
      ]
    },
    {
      "cell_type": "code",
      "execution_count": 16,
      "metadata": {
        "colab": {
          "base_uri": "https://localhost:8080/"
        },
        "id": "eSufuxMEwI8O",
        "outputId": "4438f0fc-a3da-4621-d7e2-c8b57db4182a"
      },
      "outputs": [
        {
          "name": "stdout",
          "output_type": "stream",
          "text": [
            "['Steve', 'Cohen', 'is', 'a', 'prominent', 'American', 'billionaire', 'and', 'hedge', 'fund', 'manager', 'best', 'known', 'as', 'the']\n"
          ]
        }
      ],
      "source": [
        "def custom_tokenize(text):\n",
        "    text_temp = re.sub(r\"(\\w+)'(\\w+)\", r\"\\1'\\2\", text)\n",
        "    text_temp = re.sub(r\"(\\w+)-(\\w+)(-(\\w+))?\", lambda m: m.group(0).replace(\"-\", \"HYPHEN\"), text_temp)\n",
        "    text_temp = re.sub(r\"(\\d+)\\.(\\d+)\", lambda m: m.group(0).replace(\".\", \"DECIMAL\"), text_temp)\n",
        "    text_temp = re.sub(r'[^\\w\\s]', ' ', text_temp)\n",
        "    tokens = text_temp.split()\n",
        "    tokens = [token.replace(\"HYPHEN\", \"-\").replace(\"DECIMAL\", \".\") for token in tokens]\n",
        "\n",
        "    return tokens\n",
        "custom_tokens = custom_tokenize(text_sample)\n",
        "print(custom_tokens[:15])"
      ]
    },
    {
      "cell_type": "code",
      "execution_count": 17,
      "metadata": {
        "colab": {
          "base_uri": "https://localhost:8080/"
        },
        "id": "7WR1yn6swU7N",
        "outputId": "ab131792-906f-48b1-ee3d-03df13f63ad9"
      },
      "outputs": [
        {
          "name": "stdout",
          "output_type": "stream",
          "text": [
            "Steve Cohen is a prominent American billionaire and hedge fund manager, best known as the founder and CEO of Point72 Asset Management, a global multi-strategy investment firm. He launched his first major hedge fund, SAC Capital Advisors, in 1992, achieving remarkable returns and earning a reputation as one of Wall Street's most successful traders. Despite SAC Capital's impressive performance, the firm was ultimately shut down after pleading guilty to insider trading charges in 2013, resulting in $1.8 billion in fines, though Cohen himself was never personally charged. After a period during which he was barred from managing outside money, Cohen re-emerged by transforming his operations into Point72, which now manages billions in assets and serves clients worldwide. Beyond finance, Cohen is also known for his philanthropy, extensive modern art collection, and as the owner and CEO of Major League Baseball's New York Mets, reflecting his wide-ranging influence in both business and culture His email is <EMAIL>. Check out <URL> Call at <PHONE> or <PHONE>. The firm's value is $3.14 billion.\n"
          ]
        }
      ],
      "source": [
        "email_pattern = r'\\b[A-Za-z0-9._%+-]+@[A-Za-z0-9.-]+\\.[A-Z|a-z]{2,}\\b'\n",
        "email_replaced = re.sub(email_pattern, '<EMAIL>', text_sample)\n",
        "url_pattern = r'https?://(?:[-\\w.]|(?:%[\\da-fA-F]{2}))+'\n",
        "url_replaced = re.sub(url_pattern, '<URL>', email_replaced)\n",
        "\n",
        "phone_pattern = r'(\\+\\d{1,3}\\s\\d{10}|\\d{3}-\\d{3}-\\d{4})'\n",
        "phone_replaced = re.sub(phone_pattern, '<PHONE>', url_replaced)\n",
        "\n",
        "print(phone_replaced)"
      ]
    }
  ],
  "metadata": {
    "colab": {
      "provenance": []
    },
    "kernelspec": {
      "display_name": "Python 3",
      "name": "python3"
    },
    "language_info": {
      "codemirror_mode": {
        "name": "ipython",
        "version": 3
      },
      "file_extension": ".py",
      "mimetype": "text/x-python",
      "name": "python",
      "nbconvert_exporter": "python",
      "pygments_lexer": "ipython3",
      "version": "3.13.1"
    }
  },
  "nbformat": 4,
  "nbformat_minor": 0
}
